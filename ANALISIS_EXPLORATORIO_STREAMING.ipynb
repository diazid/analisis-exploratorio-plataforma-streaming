{
  "nbformat": 4,
  "nbformat_minor": 0,
  "metadata": {
    "colab": {
      "provenance": []
    },
    "kernelspec": {
      "name": "python3",
      "display_name": "Python 3"
    }
  },
  "cells": [
    {
      "cell_type": "markdown",
      "metadata": {
        "id": "DqFxa5gv0-Kn"
      },
      "source": [
        "# ANALISIS EXPLORATORIO, PLATAFORMA DE VIDEO STREAMING.  \n",
        "\n",
        "Elaborado por: Israel Díaz - idiazg@udd.cl\n",
        "\n",
        "Tutor: Pablo Reinoso\n",
        "\n",
        "## INTRODUCCIÓN\n",
        "\n",
        "La siguiente asignación esta relacionada con el trabajo final del curso Inteligencia Artificial Aplicada del Magister en Data Science. Las actividades a realzar corresponden a un analisis exploratorio de datos.\n",
        "\n",
        "## DATOS\n",
        "\n",
        "Los datos contienen 1 dia de interacciones entre los clientes y una plataforma de streaming.\n",
        "\n",
        "Las variables encontradas ne el dataset son las siguientes: \n",
        "\n",
        "*   PAIS: corresponde al país del suscriptor.\n",
        "*   ID_CLIENTE: número de identificación del cliente en la plataforma\n",
        "*   TX_NOMBRE: nombre de la pelicula o serie que se ha transmitido en en la plataforma.\n",
        "*   TX_ESTUDIO: estudio al cual pertenece la pelicula o serie.\n",
        "*   COD_FECHA_VISUALIZACION: Fecha en el cual se ha producido la visualización\n",
        "*   FECHA_PAIS: Fecha en el cual se ha producido la visualización\n",
        "*   TX_DISP_CATEGORIA_ORIGINAL: Categoría del disponsitivo receptor, pej. TV, WEB, Mobile, etc.\n",
        "*   TX_DISP_MODELO_ORIGINAL:  Modelo del dispositivo receptor \n",
        "*   TX_DISP_VERSION_ORIGINAL: Versión del dispositivo receptor\n",
        "*   COD_PARTNER_OPERACION: Codigo del partner de operación.\n",
        "*   TIPO_OPERACION: Suscripción, otro. \n",
        "*   ID_GRUPO: Identificación de grupo\n",
        "*   PRECIO: Precio de la suscripción.\n",
        "*   MEDIO_PAGO_NOMBRE: Medio de pago. \n",
        "*   FECHA_ULT_VIS: Fecha de última visualización\n",
        "*   ULT_VIS: última visualización\n",
        "*   FECHA_MAX_VIS:  Fecha de máxima visualizaciones. \n",
        "*   MAX_VIS: Máxima visualizaciones.\n",
        "*   TX_DISP_FABRICANTE_ORIGINAL: Fabricante orifinal del dispositivo receptor. \n",
        "\n",
        "\n",
        "\n"
      ]
    },
    {
      "cell_type": "markdown",
      "metadata": {
        "id": "yQQ27XwC48n6"
      },
      "source": [
        "### Carga de datos desde google drive."
      ]
    },
    {
      "cell_type": "code",
      "metadata": {
        "id": "jSJGUl7jhAK-",
        "outputId": "8bbabe62-5015-4150-cd19-22bd091aeb18",
        "colab": {
          "base_uri": "https://localhost:8080/",
          "height": 51
        }
      },
      "source": [
        "from google.colab import drive\n",
        "drive.mount('/content/gdrive')\n",
        "%cd /content/gdrive"
      ],
      "execution_count": null,
      "outputs": [
        {
          "output_type": "stream",
          "text": [
            "Drive already mounted at /content/gdrive; to attempt to forcibly remount, call drive.mount(\"/content/gdrive\", force_remount=True).\n",
            "/content/gdrive\n"
          ],
          "name": "stdout"
        }
      ]
    },
    {
      "cell_type": "code",
      "metadata": {
        "id": "17svYAlPhFFm"
      },
      "source": [
        "import os\n",
        "os.chdir('/content/gdrive/My Drive/IAA/Proyecto_Final') #setea el la carpeta por defecto"
      ],
      "execution_count": null,
      "outputs": []
    },
    {
      "cell_type": "markdown",
      "metadata": {
        "id": "eigY_RROI8au"
      },
      "source": [
        "### Carga de librerías \n",
        "Para realizar el análisis exploratorio de datos se cargarán las librerías mas comunes: Pandas, Numpy, Matplotlib y Seaborn. "
      ]
    },
    {
      "cell_type": "code",
      "metadata": {
        "id": "YjTXqirhhlN6",
        "outputId": "419177f6-9c4a-40cd-c417-6629fdcfb0d0",
        "colab": {
          "base_uri": "https://localhost:8080/",
          "height": 71
        }
      },
      "source": [
        "import pandas as pd\n",
        "import numpy as np\n",
        "import matplotlib.pyplot as plt\n",
        "import seaborn as sns"
      ],
      "execution_count": null,
      "outputs": [
        {
          "output_type": "stream",
          "text": [
            "/usr/local/lib/python3.6/dist-packages/statsmodels/tools/_testing.py:19: FutureWarning: pandas.util.testing is deprecated. Use the functions in the public API at pandas.testing instead.\n",
            "  import pandas.util.testing as tm\n"
          ],
          "name": "stderr"
        }
      ]
    },
    {
      "cell_type": "markdown",
      "metadata": {
        "id": "eN8pIFyCJNHf"
      },
      "source": [
        "Se carga el archivo datos_1dia.csv como un dataframe, a través del método read_csv de Pandas, los registros se encuentran separados por ;."
      ]
    },
    {
      "cell_type": "code",
      "metadata": {
        "id": "79fgMBceiPfL"
      },
      "source": [
        "path = 'data/datos_1dia.csv'\n",
        "df = pd.read_csv(path, sep=';')"
      ],
      "execution_count": null,
      "outputs": []
    },
    {
      "cell_type": "markdown",
      "metadata": {
        "id": "cmrIWGH8KxYe"
      },
      "source": [
        "El metodo .info() se utiliza para ver información sobre el tipo de data que esta almacenada en el datagrame. "
      ]
    },
    {
      "cell_type": "code",
      "metadata": {
        "id": "PYIxnypqjDz3",
        "outputId": "0a89eb8f-d07f-4137-df4e-9c525d918433",
        "colab": {
          "base_uri": "https://localhost:8080/",
          "height": 493
        }
      },
      "source": [
        "print('Filas: {} ; Columnas: {}'.format(df.shape[0], df.shape[1]))\n",
        "df.info()"
      ],
      "execution_count": null,
      "outputs": [
        {
          "output_type": "stream",
          "text": [
            "Filas: 20027 ; Columnas: 20\n",
            "<class 'pandas.core.frame.DataFrame'>\n",
            "RangeIndex: 20027 entries, 0 to 20026\n",
            "Data columns (total 20 columns):\n",
            " #   Column                       Non-Null Count  Dtype  \n",
            "---  ------                       --------------  -----  \n",
            " 0   PAIS                         20027 non-null  object \n",
            " 1   ID_CLIENTE                   19641 non-null  float64\n",
            " 2   TX_NOMBRE                    20027 non-null  object \n",
            " 3   TX_ESTUDIO                   20027 non-null  object \n",
            " 4   COD_FECHA_VISUALIZACION      20027 non-null  object \n",
            " 5   FECHA_PAIS                   20027 non-null  object \n",
            " 6   TX_DISP_CATEGORIA_ORIGINAL   19641 non-null  object \n",
            " 7   TX_DISP_MODELO_ORIGINAL      19641 non-null  object \n",
            " 8   TX_DISP_TIPO_ORIGINAL        19641 non-null  object \n",
            " 9   TX_DISP_VERSION_ORIGINAL     19641 non-null  object \n",
            " 10  COD_PARTNER_OPERACION        19079 non-null  float64\n",
            " 11  TIPO_OPERACION               18991 non-null  object \n",
            " 12  ID_GRUPO                     20027 non-null  int64  \n",
            " 13  PRECIO                       20027 non-null  int64  \n",
            " 14  MEDIO_PAGO_NOMBRE            18991 non-null  object \n",
            " 15  FECHA_ULT_VIS                3968 non-null   object \n",
            " 16  ULT_VIS                      3968 non-null   float64\n",
            " 17  FECHA_MAX_VIS                3968 non-null   object \n",
            " 18  MAX_VIS                      3968 non-null   float64\n",
            " 19  TX_DISP_FABRICANTE_ORIGINAL  19641 non-null  object \n",
            "dtypes: float64(4), int64(2), object(14)\n",
            "memory usage: 3.1+ MB\n"
          ],
          "name": "stdout"
        }
      ]
    },
    {
      "cell_type": "markdown",
      "metadata": {
        "id": "JtiMFaIZK-ax"
      },
      "source": [
        "Deseo ver como se ven los datos en aras de asignar el tipo de datos de forma correcta. Registros numeros a enteros o float, segun corresponda, y asignas las categorias. "
      ]
    },
    {
      "cell_type": "code",
      "metadata": {
        "id": "bDae0QCgQI5-",
        "outputId": "20235546-06f2-4c27-a60f-40647acde16d",
        "colab": {
          "base_uri": "https://localhost:8080/",
          "height": 182
        }
      },
      "source": [
        "df.sample(2)"
      ],
      "execution_count": null,
      "outputs": [
        {
          "output_type": "execute_result",
          "data": {
            "text/html": [
              "<div>\n",
              "<style scoped>\n",
              "    .dataframe tbody tr th:only-of-type {\n",
              "        vertical-align: middle;\n",
              "    }\n",
              "\n",
              "    .dataframe tbody tr th {\n",
              "        vertical-align: top;\n",
              "    }\n",
              "\n",
              "    .dataframe thead th {\n",
              "        text-align: right;\n",
              "    }\n",
              "</style>\n",
              "<table border=\"1\" class=\"dataframe\">\n",
              "  <thead>\n",
              "    <tr style=\"text-align: right;\">\n",
              "      <th></th>\n",
              "      <th>PAIS</th>\n",
              "      <th>ID_CLIENTE</th>\n",
              "      <th>TX_NOMBRE</th>\n",
              "      <th>TX_ESTUDIO</th>\n",
              "      <th>COD_FECHA_VISUALIZACION</th>\n",
              "      <th>FECHA_PAIS</th>\n",
              "      <th>TX_DISP_CATEGORIA_ORIGINAL</th>\n",
              "      <th>TX_DISP_MODELO_ORIGINAL</th>\n",
              "      <th>TX_DISP_TIPO_ORIGINAL</th>\n",
              "      <th>TX_DISP_VERSION_ORIGINAL</th>\n",
              "      <th>COD_PARTNER_OPERACION</th>\n",
              "      <th>TIPO_OPERACION</th>\n",
              "      <th>ID_GRUPO</th>\n",
              "      <th>PRECIO</th>\n",
              "      <th>MEDIO_PAGO_NOMBRE</th>\n",
              "      <th>FECHA_ULT_VIS</th>\n",
              "      <th>ULT_VIS</th>\n",
              "      <th>FECHA_MAX_VIS</th>\n",
              "      <th>MAX_VIS</th>\n",
              "      <th>TX_DISP_FABRICANTE_ORIGINAL</th>\n",
              "    </tr>\n",
              "  </thead>\n",
              "  <tbody>\n",
              "    <tr>\n",
              "      <th>15082</th>\n",
              "      <td>CHILE</td>\n",
              "      <td>198433428.0</td>\n",
              "      <td>Darkest Minds, The</td>\n",
              "      <td>Fox</td>\n",
              "      <td>2019-01-31 17:37:11</td>\n",
              "      <td>2019-01-31 17:37:11</td>\n",
              "      <td>mobile</td>\n",
              "      <td>android</td>\n",
              "      <td>CAM-L03</td>\n",
              "      <td>Android 6.0</td>\n",
              "      <td>352428634.0</td>\n",
              "      <td>Renta</td>\n",
              "      <td>775897</td>\n",
              "      <td>0</td>\n",
              "      <td>Pincode</td>\n",
              "      <td>NaN</td>\n",
              "      <td>NaN</td>\n",
              "      <td>NaN</td>\n",
              "      <td>NaN</td>\n",
              "      <td>HUAWEI</td>\n",
              "    </tr>\n",
              "    <tr>\n",
              "      <th>18683</th>\n",
              "      <td>CHILE</td>\n",
              "      <td>210770562.0</td>\n",
              "      <td>American Horror Story</td>\n",
              "      <td>Fox</td>\n",
              "      <td>2019-01-31 23:11:06</td>\n",
              "      <td>2019-01-31 23:11:06</td>\n",
              "      <td>mobile</td>\n",
              "      <td>android</td>\n",
              "      <td>SM-N950F</td>\n",
              "      <td>Android 8.0.0</td>\n",
              "      <td>349447829.0</td>\n",
              "      <td>Suscripcion</td>\n",
              "      <td>597212</td>\n",
              "      <td>0</td>\n",
              "      <td>Movil</td>\n",
              "      <td>NaN</td>\n",
              "      <td>NaN</td>\n",
              "      <td>NaN</td>\n",
              "      <td>NaN</td>\n",
              "      <td>samsung</td>\n",
              "    </tr>\n",
              "  </tbody>\n",
              "</table>\n",
              "</div>"
            ],
            "text/plain": [
              "        PAIS   ID_CLIENTE  ... MAX_VIS TX_DISP_FABRICANTE_ORIGINAL\n",
              "15082  CHILE  198433428.0  ...     NaN                      HUAWEI\n",
              "18683  CHILE  210770562.0  ...     NaN                     samsung\n",
              "\n",
              "[2 rows x 20 columns]"
            ]
          },
          "metadata": {
            "tags": []
          },
          "execution_count": 6
        }
      ]
    },
    {
      "cell_type": "markdown",
      "metadata": {
        "id": "wOQT5jiILW3z"
      },
      "source": [
        "Ya identificado los datos, se procede a arreglar los datos para que formen parte de su categoria respectiva. Pero antes, debo llenar los null values o NaN, con '0' si es numero, '2019-01-01 00:00:01' si es datetime, y 'otro' si correspondera a una categoria. "
      ]
    },
    {
      "cell_type": "code",
      "metadata": {
        "id": "l12vpDhQjSq-"
      },
      "source": [
        "integer=['ID_CLIENTE',\n",
        "         'COD_PARTNER_OPERACION',\n",
        "         'ID_GRUPO',\n",
        "         'PRECIO',\n",
        "         'ULT_VIS',\n",
        "         'MAX_VIS']\n",
        "\n",
        "datetime = ['COD_FECHA_VISUALIZACION', \n",
        "            'FECHA_PAIS',\n",
        "            'FECHA_ULT_VIS',\n",
        "            'FECHA_MAX_VIS']\n",
        "\n",
        "category = ['PAIS', 'TX_NOMBRE', 'TX_ESTUDIO',\n",
        "            'TX_DISP_CATEGORIA_ORIGINAL', \n",
        "            'TX_DISP_MODELO_ORIGINAL', \n",
        "            'TX_DISP_TIPO_ORIGINAL', \n",
        "            'TX_DISP_VERSION_ORIGINAL',\n",
        "            'TIPO_OPERACION',\n",
        "            'MEDIO_PAGO_NOMBRE',\n",
        "            'TX_DISP_FABRICANTE_ORIGINAL']"
      ],
      "execution_count": null,
      "outputs": []
    },
    {
      "cell_type": "code",
      "metadata": {
        "id": "5hRBTluZQdeX"
      },
      "source": [
        "#llena NAs con un formato acorde al tipo de dato.\n",
        "df[integer] = df[integer].fillna(0)\n",
        "df[datetime] = df[datetime].fillna('2019-01-01 00:00:01')\n",
        "df[category] = df[category].fillna('otro')"
      ],
      "execution_count": null,
      "outputs": []
    },
    {
      "cell_type": "code",
      "metadata": {
        "id": "sFU5tSPafX44",
        "outputId": "ed1b1e76-8e93-48ca-c750-53ac7b8cc388",
        "colab": {
          "base_uri": "https://localhost:8080/",
          "height": 600
        }
      },
      "source": [
        "df.sample(10)"
      ],
      "execution_count": null,
      "outputs": [
        {
          "output_type": "execute_result",
          "data": {
            "text/html": [
              "<div>\n",
              "<style scoped>\n",
              "    .dataframe tbody tr th:only-of-type {\n",
              "        vertical-align: middle;\n",
              "    }\n",
              "\n",
              "    .dataframe tbody tr th {\n",
              "        vertical-align: top;\n",
              "    }\n",
              "\n",
              "    .dataframe thead th {\n",
              "        text-align: right;\n",
              "    }\n",
              "</style>\n",
              "<table border=\"1\" class=\"dataframe\">\n",
              "  <thead>\n",
              "    <tr style=\"text-align: right;\">\n",
              "      <th></th>\n",
              "      <th>PAIS</th>\n",
              "      <th>ID_CLIENTE</th>\n",
              "      <th>TX_NOMBRE</th>\n",
              "      <th>TX_ESTUDIO</th>\n",
              "      <th>COD_FECHA_VISUALIZACION</th>\n",
              "      <th>FECHA_PAIS</th>\n",
              "      <th>TX_DISP_CATEGORIA_ORIGINAL</th>\n",
              "      <th>TX_DISP_MODELO_ORIGINAL</th>\n",
              "      <th>TX_DISP_TIPO_ORIGINAL</th>\n",
              "      <th>TX_DISP_VERSION_ORIGINAL</th>\n",
              "      <th>COD_PARTNER_OPERACION</th>\n",
              "      <th>TIPO_OPERACION</th>\n",
              "      <th>ID_GRUPO</th>\n",
              "      <th>PRECIO</th>\n",
              "      <th>MEDIO_PAGO_NOMBRE</th>\n",
              "      <th>FECHA_ULT_VIS</th>\n",
              "      <th>ULT_VIS</th>\n",
              "      <th>FECHA_MAX_VIS</th>\n",
              "      <th>MAX_VIS</th>\n",
              "      <th>TX_DISP_FABRICANTE_ORIGINAL</th>\n",
              "    </tr>\n",
              "  </thead>\n",
              "  <tbody>\n",
              "    <tr>\n",
              "      <th>14655</th>\n",
              "      <td>CHILE</td>\n",
              "      <td>214994616.0</td>\n",
              "      <td>Malcolm in the Middle</td>\n",
              "      <td>Fox</td>\n",
              "      <td>2019-01-31 00:10:24</td>\n",
              "      <td>2019-01-31 00:10:24</td>\n",
              "      <td>mobile</td>\n",
              "      <td>android</td>\n",
              "      <td>SNE-LX3</td>\n",
              "      <td>Android 8.1.0</td>\n",
              "      <td>350193233.0</td>\n",
              "      <td>Suscripcion</td>\n",
              "      <td>613589</td>\n",
              "      <td>0</td>\n",
              "      <td>Movil</td>\n",
              "      <td>2019-01-31 00:45:16</td>\n",
              "      <td>0.0</td>\n",
              "      <td>2019-01-31 00:45:06</td>\n",
              "      <td>22.0</td>\n",
              "      <td>HUAWEI</td>\n",
              "    </tr>\n",
              "    <tr>\n",
              "      <th>810</th>\n",
              "      <td>CHILE</td>\n",
              "      <td>90609924.0</td>\n",
              "      <td>Seora Acero</td>\n",
              "      <td>Universal</td>\n",
              "      <td>2019-01-31 20:08:34</td>\n",
              "      <td>2019-01-31 20:08:34</td>\n",
              "      <td>mobile</td>\n",
              "      <td>aapl</td>\n",
              "      <td>iPhone</td>\n",
              "      <td>iOS 12.1.2</td>\n",
              "      <td>349366976.0</td>\n",
              "      <td>Suscripcion</td>\n",
              "      <td>778111</td>\n",
              "      <td>0</td>\n",
              "      <td>Movil</td>\n",
              "      <td>2019-01-01 00:00:01</td>\n",
              "      <td>0.0</td>\n",
              "      <td>2019-01-01 00:00:01</td>\n",
              "      <td>0.0</td>\n",
              "      <td>aapl</td>\n",
              "    </tr>\n",
              "    <tr>\n",
              "      <th>13737</th>\n",
              "      <td>CHILE</td>\n",
              "      <td>208799778.0</td>\n",
              "      <td>Seora Acero</td>\n",
              "      <td>Universal</td>\n",
              "      <td>2019-01-31 16:38:07</td>\n",
              "      <td>2019-01-31 16:38:07</td>\n",
              "      <td>mobile</td>\n",
              "      <td>android</td>\n",
              "      <td>SNE-LX3</td>\n",
              "      <td>Android 8.1.0</td>\n",
              "      <td>347936660.0</td>\n",
              "      <td>Suscripcion</td>\n",
              "      <td>778168</td>\n",
              "      <td>3500</td>\n",
              "      <td>Movil</td>\n",
              "      <td>2019-01-01 00:00:01</td>\n",
              "      <td>0.0</td>\n",
              "      <td>2019-01-01 00:00:01</td>\n",
              "      <td>0.0</td>\n",
              "      <td>HUAWEI</td>\n",
              "    </tr>\n",
              "    <tr>\n",
              "      <th>14403</th>\n",
              "      <td>CHILE</td>\n",
              "      <td>213261708.0</td>\n",
              "      <td>Mean Guns</td>\n",
              "      <td>TELEFILMS - Whiland International S.A.</td>\n",
              "      <td>2019-01-31 21:44:13</td>\n",
              "      <td>2019-01-31 21:44:13</td>\n",
              "      <td>tablet</td>\n",
              "      <td>android</td>\n",
              "      <td>SM-T560</td>\n",
              "      <td>Android 4.4.4</td>\n",
              "      <td>344153460.0</td>\n",
              "      <td>Suscripcion</td>\n",
              "      <td>615968</td>\n",
              "      <td>0</td>\n",
              "      <td>Movil</td>\n",
              "      <td>2019-01-01 00:00:01</td>\n",
              "      <td>0.0</td>\n",
              "      <td>2019-01-01 00:00:01</td>\n",
              "      <td>0.0</td>\n",
              "      <td>samsung</td>\n",
              "    </tr>\n",
              "    <tr>\n",
              "      <th>5611</th>\n",
              "      <td>CHILE</td>\n",
              "      <td>183727656.0</td>\n",
              "      <td>Nanny, The</td>\n",
              "      <td>Sony</td>\n",
              "      <td>2019-01-31 09:40:57</td>\n",
              "      <td>2019-01-31 09:40:57</td>\n",
              "      <td>tv</td>\n",
              "      <td>sony</td>\n",
              "      <td>TV</td>\n",
              "      <td>2.4.2</td>\n",
              "      <td>349369794.0</td>\n",
              "      <td>Suscripcion</td>\n",
              "      <td>566780</td>\n",
              "      <td>0</td>\n",
              "      <td>Movil</td>\n",
              "      <td>2019-01-01 00:00:01</td>\n",
              "      <td>0.0</td>\n",
              "      <td>2019-01-01 00:00:01</td>\n",
              "      <td>0.0</td>\n",
              "      <td>sony</td>\n",
              "    </tr>\n",
              "    <tr>\n",
              "      <th>7762</th>\n",
              "      <td>CHILE</td>\n",
              "      <td>214890330.0</td>\n",
              "      <td>Malcolm in the Middle</td>\n",
              "      <td>Fox</td>\n",
              "      <td>2019-01-31 17:21:50</td>\n",
              "      <td>2019-01-31 17:21:50</td>\n",
              "      <td>tv</td>\n",
              "      <td>tizen</td>\n",
              "      <td>TV</td>\n",
              "      <td>2.4.2</td>\n",
              "      <td>349881556.0</td>\n",
              "      <td>Suscripcion</td>\n",
              "      <td>613809</td>\n",
              "      <td>0</td>\n",
              "      <td>Movil</td>\n",
              "      <td>2019-01-01 00:00:01</td>\n",
              "      <td>0.0</td>\n",
              "      <td>2019-01-01 00:00:01</td>\n",
              "      <td>0.0</td>\n",
              "      <td>samsung</td>\n",
              "    </tr>\n",
              "    <tr>\n",
              "      <th>19131</th>\n",
              "      <td>CHILE</td>\n",
              "      <td>210509202.0</td>\n",
              "      <td>Glee</td>\n",
              "      <td>Fox</td>\n",
              "      <td>2019-01-31 01:22:53</td>\n",
              "      <td>2019-01-31 01:22:53</td>\n",
              "      <td>tablet</td>\n",
              "      <td>aapl</td>\n",
              "      <td>iPad</td>\n",
              "      <td>iOS 9.3.5</td>\n",
              "      <td>344282863.0</td>\n",
              "      <td>Suscripcion</td>\n",
              "      <td>598907</td>\n",
              "      <td>0</td>\n",
              "      <td>Movil</td>\n",
              "      <td>2019-01-31 01:24:29</td>\n",
              "      <td>2.0</td>\n",
              "      <td>2019-01-31 01:24:29</td>\n",
              "      <td>2.0</td>\n",
              "      <td>aapl</td>\n",
              "    </tr>\n",
              "    <tr>\n",
              "      <th>13003</th>\n",
              "      <td>CHILE</td>\n",
              "      <td>155317956.0</td>\n",
              "      <td>Kevin Can Wait</td>\n",
              "      <td>Sony</td>\n",
              "      <td>2019-01-31 19:37:10</td>\n",
              "      <td>2019-01-31 19:37:10</td>\n",
              "      <td>tablet</td>\n",
              "      <td>aapl</td>\n",
              "      <td>iPad</td>\n",
              "      <td>iOS 9.3.5</td>\n",
              "      <td>349276239.0</td>\n",
              "      <td>Suscripcion</td>\n",
              "      <td>778386</td>\n",
              "      <td>0</td>\n",
              "      <td>Movil</td>\n",
              "      <td>2019-01-01 00:00:01</td>\n",
              "      <td>0.0</td>\n",
              "      <td>2019-01-01 00:00:01</td>\n",
              "      <td>0.0</td>\n",
              "      <td>aapl</td>\n",
              "    </tr>\n",
              "    <tr>\n",
              "      <th>5523</th>\n",
              "      <td>CHILE</td>\n",
              "      <td>202852998.0</td>\n",
              "      <td>Glee</td>\n",
              "      <td>Fox</td>\n",
              "      <td>2019-01-31 02:07:55</td>\n",
              "      <td>2019-01-31 02:07:55</td>\n",
              "      <td>web</td>\n",
              "      <td>html5</td>\n",
              "      <td>html5</td>\n",
              "      <td>Chrome</td>\n",
              "      <td>347382383.0</td>\n",
              "      <td>Suscripcion</td>\n",
              "      <td>599084</td>\n",
              "      <td>3500</td>\n",
              "      <td>Fija</td>\n",
              "      <td>2019-01-01 00:00:01</td>\n",
              "      <td>0.0</td>\n",
              "      <td>2019-01-01 00:00:01</td>\n",
              "      <td>0.0</td>\n",
              "      <td>windows</td>\n",
              "    </tr>\n",
              "    <tr>\n",
              "      <th>5129</th>\n",
              "      <td>CHILE</td>\n",
              "      <td>184928670.0</td>\n",
              "      <td>Hay alguien ah</td>\n",
              "      <td>Mediaset Espaa Comunicacin</td>\n",
              "      <td>2019-01-31 10:39:49</td>\n",
              "      <td>2019-01-31 10:39:49</td>\n",
              "      <td>tv</td>\n",
              "      <td>samsung</td>\n",
              "      <td>TV</td>\n",
              "      <td>2.4.2</td>\n",
              "      <td>348895193.0</td>\n",
              "      <td>Suscripcion</td>\n",
              "      <td>670940</td>\n",
              "      <td>3500</td>\n",
              "      <td>Fija</td>\n",
              "      <td>2019-01-01 00:00:01</td>\n",
              "      <td>0.0</td>\n",
              "      <td>2019-01-01 00:00:01</td>\n",
              "      <td>0.0</td>\n",
              "      <td>samsung</td>\n",
              "    </tr>\n",
              "  </tbody>\n",
              "</table>\n",
              "</div>"
            ],
            "text/plain": [
              "        PAIS   ID_CLIENTE  ... MAX_VIS TX_DISP_FABRICANTE_ORIGINAL\n",
              "14655  CHILE  214994616.0  ...    22.0                      HUAWEI\n",
              "810    CHILE   90609924.0  ...     0.0                        aapl\n",
              "13737  CHILE  208799778.0  ...     0.0                      HUAWEI\n",
              "14403  CHILE  213261708.0  ...     0.0                     samsung\n",
              "5611   CHILE  183727656.0  ...     0.0                        sony\n",
              "7762   CHILE  214890330.0  ...     0.0                     samsung\n",
              "19131  CHILE  210509202.0  ...     2.0                        aapl\n",
              "13003  CHILE  155317956.0  ...     0.0                        aapl\n",
              "5523   CHILE  202852998.0  ...     0.0                     windows\n",
              "5129   CHILE  184928670.0  ...     0.0                     samsung\n",
              "\n",
              "[10 rows x 20 columns]"
            ]
          },
          "metadata": {
            "tags": []
          },
          "execution_count": 9
        }
      ]
    },
    {
      "cell_type": "markdown",
      "metadata": {
        "id": "klPeqPNKMxUF"
      },
      "source": [
        "Como se ve en el resultado anterior, se han llenado los missing values con el valor deseado. \n",
        "\n",
        "A continuacón, deseo disminuir la cantidad de categorias en el renglón de TX_DISP_VERSION_ORIGINAL en aras de hacer un mejor analisis, y tener tantas categorias."
      ]
    },
    {
      "cell_type": "code",
      "metadata": {
        "id": "OEPQm062qc7r"
      },
      "source": [
        "tx_disp_ver_original = {'Chrome':'Chrome',\n",
        " 'Android 8.0.0': 'Android',\n",
        " '2.4.2': 'TV',\n",
        " 'Android 5.1.1': 'Android',\n",
        " 'Android 9': 'Android',\n",
        " 'Android 7.0': 'Android',\n",
        " 'iOS 10.3.3': 'iOS',\n",
        " 'Android 8.1.0': 'Android',\n",
        " 'Android 6.0': 'Android',\n",
        " 'iOS 12.1.2': 'iOS',\n",
        " 'Android 4.4.2': 'Android',\n",
        " '10': 'Windows 10',\n",
        " 'iOS 9.3.5': 'iOS',\n",
        " 'Android 6.0.1': 'Android',\n",
        " 'otro': 'otro',\n",
        " 'iOS 12.1': 'iOS',\n",
        " 'webos': 'TV',\n",
        " 'tizen': 'TV',\n",
        " 'Firefox': 'Firefox',\n",
        " 'Android 7.1.2': 'Android',\n",
        " 'iOS 11.4.1': 'iOS',\n",
        " 'Android 7.1.1': 'Android',\n",
        " 'Android 5.1': 'Android',\n",
        " 'iOS 12.1.3': 'iOS',\n",
        " 'Safari': 'Safari',\n",
        " 'Edge': 'Edge',\n",
        " 'Android 4.4.4': 'Android',\n",
        " 'Android 5.0.2': 'Android',\n",
        " 'Android 4.2.2': 'Android',\n",
        " 'Android 4.1.2': 'Android',\n",
        " 'iOS 12.1.1': 'iOS',\n",
        " '5S6740094401': 'generic',\n",
        " 'iOS 11.2.6': 'iOS',\n",
        " 'Android 5.0.1': 'Android',\n",
        " 'Android+6.0': 'Android',\n",
        " '12.1.2': 'iOS',\n",
        " 'hisense': 'TV',\n",
        " 'orsay': 'otro',\n",
        " 'iOS 11.4': 'iOS',\n",
        " 'web': 'web',\n",
        " '5S673D040224': 'generic',\n",
        " 'YU00V0097731': 'generic',\n",
        " 'netcast': 'TV',\n",
        " 'YG00AG576175': 'generic',\n",
        " '5S674V097270': 'generic',\n",
        " 'freebsd': 'freebsd',\n",
        " '12.1.1': 'iOS',\n",
        " 'iOS 11.3': 'iOS',\n",
        " 'iOS 11.2.5': 'iOS',\n",
        " 'Android 4.0.4': 'Android',\n",
        " 'iOS 12.0.1': 'iOS',\n",
        " 'Android+6.0.1': 'Android',\n",
        " 'iOS 11.3.1': 'iOS',\n",
        " 'opera': 'opera',\n",
        " 'YU008V494449': 'generic',\n",
        " 'YU00A6039716': 'generic',\n",
        " 'iOS 11.0.3': 'iOS',\n",
        " 'Android 5.0': 'Android',\n",
        " '5S6741110387': 'generic',\n",
        " 'iOS 10.2.1': 'iOS',\n",
        " 'iOS 11.2.1': 'iOS',\n",
        " 'YU00SF044545': 'generic',\n",
        " '5S677T052901': 'generic',\n",
        " 'YG004Y908861': 'generic',\n",
        " '5S677T029095': 'generic',\n",
        " 'iOS 12.0': 'iOS',\n",
        " 'iOS 10.0.2': 'iOS',\n",
        " 'iOS 12.2': 'iOS',\n",
        " 'YU002E942827': 'generic',\n",
        " 'YU00SA716871': 'generic',\n",
        " 'iOS 9.3.4': 'iOS',\n",
        " 'YU00EV673832': 'generic',\n",
        " 'Android+8.1.0': 'Android',\n",
        " '5S674U099123': 'generic',\n",
        " 'YG003S892237': 'generic',\n",
        " 'iOS 11.0.2': 'iOS',\n",
        " 'Android+7.1.1': 'Android'}"
      ],
      "execution_count": null,
      "outputs": []
    },
    {
      "cell_type": "markdown",
      "metadata": {
        "id": "l8Ktg5o5OEQ2"
      },
      "source": [
        "He creado un script para asignas una nueva categoria para una ya existente. "
      ]
    },
    {
      "cell_type": "code",
      "metadata": {
        "id": "qRNXzI92l26-"
      },
      "source": [
        "def nuevoval(elem):\n",
        "    for key in tx_disp_ver_original.keys():\n",
        "      if elem != key:\n",
        "        continue\n",
        "      else:\n",
        "        result = tx_disp_ver_original[key]\n",
        "    return result"
      ],
      "execution_count": null,
      "outputs": []
    },
    {
      "cell_type": "markdown",
      "metadata": {
        "id": "l64LdqlPOkA2"
      },
      "source": [
        "Ejecuta el script anterior en una nueva columna llamada TX_DISP_VERSION_ORIGINAL_NEW"
      ]
    },
    {
      "cell_type": "code",
      "metadata": {
        "id": "IiJ-D2Q6oJDi",
        "outputId": "8683c272-44db-44cb-ea4e-33b395bdb62e",
        "colab": {
          "base_uri": "https://localhost:8080/",
          "height": 122
        }
      },
      "source": [
        "df['TX_DISP_VERSION_ORIGINAL_NEW'] = 'empty'\n",
        "for i in range(len(df)):\n",
        "  df['TX_DISP_VERSION_ORIGINAL_NEW'][i] = nuevoval(df['TX_DISP_VERSION_ORIGINAL'][i])"
      ],
      "execution_count": null,
      "outputs": [
        {
          "output_type": "stream",
          "text": [
            "/usr/local/lib/python3.6/dist-packages/ipykernel_launcher.py:3: SettingWithCopyWarning: \n",
            "A value is trying to be set on a copy of a slice from a DataFrame\n",
            "\n",
            "See the caveats in the documentation: https://pandas.pydata.org/pandas-docs/stable/user_guide/indexing.html#returning-a-view-versus-a-copy\n",
            "  This is separate from the ipykernel package so we can avoid doing imports until\n"
          ],
          "name": "stderr"
        }
      ]
    },
    {
      "cell_type": "markdown",
      "metadata": {
        "id": "tNyT5HoiOq7M"
      },
      "source": [
        "Como se puede ver ahora hay menos valores unicos, lo cual sera mejor a la hora de convertirlo en categorias.  "
      ]
    },
    {
      "cell_type": "code",
      "metadata": {
        "id": "bVsKZV-mudQZ",
        "outputId": "391f0654-1f03-4c5a-fe64-8c4927d9293e",
        "colab": {
          "base_uri": "https://localhost:8080/",
          "height": 68
        }
      },
      "source": [
        "df['TX_DISP_VERSION_ORIGINAL_NEW'].unique()"
      ],
      "execution_count": null,
      "outputs": [
        {
          "output_type": "execute_result",
          "data": {
            "text/plain": [
              "array(['Chrome', 'Android', 'TV', 'iOS', 'Windows 10', 'otro', 'Firefox',\n",
              "       'Safari', 'Edge', 'generic', 'web', 'freebsd', 'opera'],\n",
              "      dtype=object)"
            ]
          },
          "metadata": {
            "tags": []
          },
          "execution_count": 13
        }
      ]
    },
    {
      "cell_type": "markdown",
      "metadata": {
        "id": "NBu4vs2mQem_"
      },
      "source": [
        "Eliminaré las columnas PAIS y TX_DISP_VERSION_ORIGINAL, ya que no son utilies para el analisis exploratorio. La primera debido a que todos los registros son de Chile, y la segunda porque he creado otra variable con los valores a utilizar. "
      ]
    },
    {
      "cell_type": "code",
      "metadata": {
        "id": "WqjevaEbQZJo"
      },
      "source": [
        "columns = ['ID_CLIENTE', 'TX_NOMBRE', 'TX_ESTUDIO',\n",
        "       'COD_FECHA_VISUALIZACION', 'FECHA_PAIS', 'TX_DISP_CATEGORIA_ORIGINAL', 'TX_DISP_FABRICANTE_ORIGINAL',\n",
        "       'TX_DISP_MODELO_ORIGINAL', 'TX_DISP_TIPO_ORIGINAL',\n",
        "       'TX_DISP_VERSION_ORIGINAL_NEW', 'COD_PARTNER_OPERACION', 'TIPO_OPERACION',\n",
        "       'ID_GRUPO', 'PRECIO', 'MEDIO_PAGO_NOMBRE', 'FECHA_ULT_VIS', 'ULT_VIS',\n",
        "       'FECHA_MAX_VIS', 'MAX_VIS']"
      ],
      "execution_count": null,
      "outputs": []
    },
    {
      "cell_type": "code",
      "metadata": {
        "id": "CFChmlxLuoIw",
        "outputId": "3ef787fb-cc70-4557-b867-d1fb6d960414",
        "colab": {
          "base_uri": "https://localhost:8080/",
          "height": 34
        }
      },
      "source": [
        "set(df.columns.values.tolist()) -set(columns)"
      ],
      "execution_count": null,
      "outputs": [
        {
          "output_type": "execute_result",
          "data": {
            "text/plain": [
              "{'PAIS', 'TX_DISP_VERSION_ORIGINAL'}"
            ]
          },
          "metadata": {
            "tags": []
          },
          "execution_count": 15
        }
      ]
    },
    {
      "cell_type": "code",
      "metadata": {
        "id": "NlrZ9JorUqyF"
      },
      "source": [
        "df = df[columns]"
      ],
      "execution_count": null,
      "outputs": []
    },
    {
      "cell_type": "markdown",
      "metadata": {
        "id": "NMrX2HBsRVcG"
      },
      "source": [
        "Con la información organizada, procederé a transformar la data a las categorias finales, según lo siguiente: \n",
        "\n",
        "*  Si es numero, a entero o float segun corresponda. \n",
        "*  Si es fecha, a datetime\n",
        "*  Si corresponde a valores repetitivos a lo largo de la variable, a una categoria. "
      ]
    },
    {
      "cell_type": "code",
      "metadata": {
        "id": "kCISNXM7VsuJ"
      },
      "source": [
        "categories = {'ID_CLIENTE': np.int64, \n",
        "           'COD_FECHA_VISUALIZACION': np.datetime64, \n",
        "           'FECHA_PAIS': np.datetime64,  \n",
        "           'COD_PARTNER_OPERACION': np.int64, \n",
        "           'ID_GRUPO': np.int64, \n",
        "           'PRECIO': np.int64, \n",
        "           'FECHA_ULT_VIS': np.datetime64, \n",
        "           'ULT_VIS': np.int64, \n",
        "           'FECHA_MAX_VIS': np.datetime64, \n",
        "           'MAX_VIS': np.int64,\n",
        "           'TX_DISP_CATEGORIA_ORIGINAL': 'category', \n",
        "           'TX_DISP_MODELO_ORIGINAL':'category', \n",
        "           'TX_DISP_TIPO_ORIGINAL':'category', \n",
        "           'TX_DISP_VERSION_ORIGINAL_NEW':'category',\n",
        "           'TIPO_OPERACION':'category',\n",
        "           'MEDIO_PAGO_NOMBRE': 'category',\n",
        "           'TX_DISP_FABRICANTE_ORIGINAL': 'category'}"
      ],
      "execution_count": null,
      "outputs": []
    },
    {
      "cell_type": "code",
      "metadata": {
        "id": "8kisWC32WB_k"
      },
      "source": [
        "df = df.astype(categories)"
      ],
      "execution_count": null,
      "outputs": []
    },
    {
      "cell_type": "code",
      "metadata": {
        "id": "6kt_PKkmXbLq",
        "outputId": "272e206f-4ce7-4623-d5f3-ead0267d5dc4",
        "colab": {
          "base_uri": "https://localhost:8080/",
          "height": 459
        }
      },
      "source": [
        "df.info()"
      ],
      "execution_count": null,
      "outputs": [
        {
          "output_type": "stream",
          "text": [
            "<class 'pandas.core.frame.DataFrame'>\n",
            "RangeIndex: 20027 entries, 0 to 20026\n",
            "Data columns (total 19 columns):\n",
            " #   Column                        Non-Null Count  Dtype         \n",
            "---  ------                        --------------  -----         \n",
            " 0   ID_CLIENTE                    20027 non-null  int64         \n",
            " 1   TX_NOMBRE                     20027 non-null  object        \n",
            " 2   TX_ESTUDIO                    20027 non-null  object        \n",
            " 3   COD_FECHA_VISUALIZACION       20027 non-null  datetime64[ns]\n",
            " 4   FECHA_PAIS                    20027 non-null  datetime64[ns]\n",
            " 5   TX_DISP_CATEGORIA_ORIGINAL    20027 non-null  category      \n",
            " 6   TX_DISP_FABRICANTE_ORIGINAL   20027 non-null  category      \n",
            " 7   TX_DISP_MODELO_ORIGINAL       20027 non-null  category      \n",
            " 8   TX_DISP_TIPO_ORIGINAL         20027 non-null  category      \n",
            " 9   TX_DISP_VERSION_ORIGINAL_NEW  20027 non-null  category      \n",
            " 10  COD_PARTNER_OPERACION         20027 non-null  int64         \n",
            " 11  TIPO_OPERACION                20027 non-null  category      \n",
            " 12  ID_GRUPO                      20027 non-null  int64         \n",
            " 13  PRECIO                        20027 non-null  int64         \n",
            " 14  MEDIO_PAGO_NOMBRE             20027 non-null  category      \n",
            " 15  FECHA_ULT_VIS                 20027 non-null  datetime64[ns]\n",
            " 16  ULT_VIS                       20027 non-null  int64         \n",
            " 17  FECHA_MAX_VIS                 20027 non-null  datetime64[ns]\n",
            " 18  MAX_VIS                       20027 non-null  int64         \n",
            "dtypes: category(7), datetime64[ns](4), int64(6), object(2)\n",
            "memory usage: 2.0+ MB\n"
          ],
          "name": "stdout"
        }
      ]
    },
    {
      "cell_type": "markdown",
      "metadata": {
        "id": "l9pO6ZkHR-65"
      },
      "source": [
        "Como se ve en el resultado anterior, se han asignado correctamente las categorias. "
      ]
    },
    {
      "cell_type": "markdown",
      "metadata": {
        "id": "uA3yI_02SEd7"
      },
      "source": [
        "### Analisis Exploratorio"
      ]
    },
    {
      "cell_type": "markdown",
      "metadata": {
        "id": "xmBzDQD_SM54"
      },
      "source": [
        "#### Deseo conocer los clientes que mas visualizaciones tuvieron durante ese mes"
      ]
    },
    {
      "cell_type": "code",
      "metadata": {
        "id": "sopnkiiqYugv",
        "outputId": "5eaa4d3b-8eeb-4097-aa59-508fdb545f75",
        "colab": {
          "base_uri": "https://localhost:8080/",
          "height": 221
        }
      },
      "source": [
        "df.ID_CLIENTE.value_counts()"
      ],
      "execution_count": null,
      "outputs": [
        {
          "output_type": "execute_result",
          "data": {
            "text/plain": [
              "0            386\n",
              "135260808     77\n",
              "214221486     71\n",
              "210552960     63\n",
              "214630986     58\n",
              "            ... \n",
              "210034416      1\n",
              "214496874      1\n",
              "215877252      1\n",
              "215903958      1\n",
              "179658684      1\n",
              "Name: ID_CLIENTE, Length: 4394, dtype: int64"
            ]
          },
          "metadata": {
            "tags": []
          },
          "execution_count": 20
        }
      ]
    },
    {
      "cell_type": "code",
      "metadata": {
        "id": "6Q4yvHTBZgrA"
      },
      "source": [
        "drop_indices = df[df['ID_CLIENTE'] == 0].index.tolist()"
      ],
      "execution_count": null,
      "outputs": []
    },
    {
      "cell_type": "code",
      "metadata": {
        "id": "AxVPzYs_aahW"
      },
      "source": [
        "df.drop(drop_indices, inplace = True)"
      ],
      "execution_count": null,
      "outputs": []
    },
    {
      "cell_type": "code",
      "metadata": {
        "id": "Uo1J3Yg0b13n",
        "outputId": "f59f63da-5591-4e72-ce6f-2a56bc74c594",
        "colab": {
          "base_uri": "https://localhost:8080/",
          "height": 204
        }
      },
      "source": [
        "unique_clientes = pd.DataFrame(df.ID_CLIENTE.value_counts())\n",
        "unique_clientes.reset_index(drop = False, inplace=True)\n",
        "unique_clientes.head()"
      ],
      "execution_count": null,
      "outputs": [
        {
          "output_type": "execute_result",
          "data": {
            "text/html": [
              "<div>\n",
              "<style scoped>\n",
              "    .dataframe tbody tr th:only-of-type {\n",
              "        vertical-align: middle;\n",
              "    }\n",
              "\n",
              "    .dataframe tbody tr th {\n",
              "        vertical-align: top;\n",
              "    }\n",
              "\n",
              "    .dataframe thead th {\n",
              "        text-align: right;\n",
              "    }\n",
              "</style>\n",
              "<table border=\"1\" class=\"dataframe\">\n",
              "  <thead>\n",
              "    <tr style=\"text-align: right;\">\n",
              "      <th></th>\n",
              "      <th>index</th>\n",
              "      <th>ID_CLIENTE</th>\n",
              "    </tr>\n",
              "  </thead>\n",
              "  <tbody>\n",
              "    <tr>\n",
              "      <th>0</th>\n",
              "      <td>135260808</td>\n",
              "      <td>77</td>\n",
              "    </tr>\n",
              "    <tr>\n",
              "      <th>1</th>\n",
              "      <td>214221486</td>\n",
              "      <td>71</td>\n",
              "    </tr>\n",
              "    <tr>\n",
              "      <th>2</th>\n",
              "      <td>210552960</td>\n",
              "      <td>63</td>\n",
              "    </tr>\n",
              "    <tr>\n",
              "      <th>3</th>\n",
              "      <td>214630986</td>\n",
              "      <td>58</td>\n",
              "    </tr>\n",
              "    <tr>\n",
              "      <th>4</th>\n",
              "      <td>212362494</td>\n",
              "      <td>57</td>\n",
              "    </tr>\n",
              "  </tbody>\n",
              "</table>\n",
              "</div>"
            ],
            "text/plain": [
              "       index  ID_CLIENTE\n",
              "0  135260808          77\n",
              "1  214221486          71\n",
              "2  210552960          63\n",
              "3  214630986          58\n",
              "4  212362494          57"
            ]
          },
          "metadata": {
            "tags": []
          },
          "execution_count": 23
        }
      ]
    },
    {
      "cell_type": "code",
      "metadata": {
        "id": "mlzf0jmBb5Pm",
        "outputId": "2df2b912-e070-4f8f-a1bd-c5017106d85f",
        "colab": {
          "base_uri": "https://localhost:8080/",
          "height": 377
        }
      },
      "source": [
        "#top 20 de usuarios con mas visualizaciones\n",
        "sns.set_style(\"white\")\n",
        "sns.barplot(x = 'index', y='ID_CLIENTE', data=unique_clientes.head(20), \n",
        "            order=unique_clientes['index'].head(20), \n",
        "            palette='GnBu_d')\n",
        "plt.xlabel('Cliente')\n",
        "plt.ylabel('Cant Visualizaciones')\n",
        "plt.title('TOP 20 de Clientes que mas han visto peliculas/series')\n",
        "plt.xticks(rotation=90)"
      ],
      "execution_count": null,
      "outputs": [
        {
          "output_type": "execute_result",
          "data": {
            "text/plain": [
              "(array([ 0,  1,  2,  3,  4,  5,  6,  7,  8,  9, 10, 11, 12, 13, 14, 15, 16,\n",
              "        17, 18, 19]), <a list of 20 Text major ticklabel objects>)"
            ]
          },
          "metadata": {
            "tags": []
          },
          "execution_count": 24
        },
        {
          "output_type": "display_data",
          "data": {
            "image/png": "[encoded data removed]",
            "text/plain": [
              "<Figure size 432x288 with 1 Axes>"
            ]
          },
          "metadata": {
            "tags": []
          }
        }
      ]
    },
    {
      "cell_type": "markdown",
      "metadata": {
        "id": "Gu-_Y3WcSUqe"
      },
      "source": [
        "#### Programas (series o peliculas) mas vistos"
      ]
    },
    {
      "cell_type": "code",
      "metadata": {
        "id": "_fGfsi1scX-a",
        "outputId": "c80cab8a-80e6-4f21-96b5-02437a17491f",
        "colab": {
          "base_uri": "https://localhost:8080/",
          "height": 221
        }
      },
      "source": [
        "df.TX_NOMBRE.value_counts()"
      ],
      "execution_count": null,
      "outputs": [
        {
          "output_type": "execute_result",
          "data": {
            "text/plain": [
              "Malcolm in the Middle                        1887\n",
              "Walking Dead, The                             690\n",
              "American Horror Story                         602\n",
              "Outlander                                     553\n",
              "Modern Family                                 445\n",
              "                                             ... \n",
              "Chicogrande                                     1\n",
              "Armed Response                                  1\n",
              "Twilight Zone: The Trouble with Templeton       1\n",
              "Sensualidad                                     1\n",
              "Show Dogs                                       1\n",
              "Name: TX_NOMBRE, Length: 1475, dtype: int64"
            ]
          },
          "metadata": {
            "tags": []
          },
          "execution_count": 25
        }
      ]
    },
    {
      "cell_type": "code",
      "metadata": {
        "id": "eLC0xYemj-0B",
        "outputId": "73ae3dc9-38fb-4246-97be-c96084ccedc3",
        "colab": {
          "base_uri": "https://localhost:8080/",
          "height": 204
        }
      },
      "source": [
        "unique_movies = pd.DataFrame(df.TX_NOMBRE.value_counts())\n",
        "unique_movies.reset_index(drop = False, inplace=True)\n",
        "unique_movies.head()"
      ],
      "execution_count": null,
      "outputs": [
        {
          "output_type": "execute_result",
          "data": {
            "text/html": [
              "<div>\n",
              "<style scoped>\n",
              "    .dataframe tbody tr th:only-of-type {\n",
              "        vertical-align: middle;\n",
              "    }\n",
              "\n",
              "    .dataframe tbody tr th {\n",
              "        vertical-align: top;\n",
              "    }\n",
              "\n",
              "    .dataframe thead th {\n",
              "        text-align: right;\n",
              "    }\n",
              "</style>\n",
              "<table border=\"1\" class=\"dataframe\">\n",
              "  <thead>\n",
              "    <tr style=\"text-align: right;\">\n",
              "      <th></th>\n",
              "      <th>index</th>\n",
              "      <th>TX_NOMBRE</th>\n",
              "    </tr>\n",
              "  </thead>\n",
              "  <tbody>\n",
              "    <tr>\n",
              "      <th>0</th>\n",
              "      <td>Malcolm in the Middle</td>\n",
              "      <td>1887</td>\n",
              "    </tr>\n",
              "    <tr>\n",
              "      <th>1</th>\n",
              "      <td>Walking Dead, The</td>\n",
              "      <td>690</td>\n",
              "    </tr>\n",
              "    <tr>\n",
              "      <th>2</th>\n",
              "      <td>American Horror Story</td>\n",
              "      <td>602</td>\n",
              "    </tr>\n",
              "    <tr>\n",
              "      <th>3</th>\n",
              "      <td>Outlander</td>\n",
              "      <td>553</td>\n",
              "    </tr>\n",
              "    <tr>\n",
              "      <th>4</th>\n",
              "      <td>Modern Family</td>\n",
              "      <td>445</td>\n",
              "    </tr>\n",
              "  </tbody>\n",
              "</table>\n",
              "</div>"
            ],
            "text/plain": [
              "                   index  TX_NOMBRE\n",
              "0  Malcolm in the Middle       1887\n",
              "1      Walking Dead, The        690\n",
              "2  American Horror Story        602\n",
              "3              Outlander        553\n",
              "4          Modern Family        445"
            ]
          },
          "metadata": {
            "tags": []
          },
          "execution_count": 26
        }
      ]
    },
    {
      "cell_type": "code",
      "metadata": {
        "id": "bAZxLbI-bI2w",
        "outputId": "f23c4f11-fb89-49b9-ab19-c589f0414fe8",
        "colab": {
          "base_uri": "https://localhost:8080/",
          "height": 473
        }
      },
      "source": [
        "#top 20 de peliculas con mas visualizaciones\n",
        "sns.set_style(\"white\")\n",
        "sns.barplot(x = 'index', y='TX_NOMBRE', data=unique_movies.head(20), \n",
        "            order=unique_movies['index'].head(20), \n",
        "            palette='GnBu_d')\n",
        "plt.xlabel('Pelicula')\n",
        "plt.ylabel('Cant Visualizaciones')\n",
        "plt.title('TOP 20 de Peliculas/Series con mas visualizaciones')\n",
        "plt.xticks(rotation=90)"
      ],
      "execution_count": null,
      "outputs": [
        {
          "output_type": "execute_result",
          "data": {
            "text/plain": [
              "(array([ 0,  1,  2,  3,  4,  5,  6,  7,  8,  9, 10, 11, 12, 13, 14, 15, 16,\n",
              "        17, 18, 19]), <a list of 20 Text major ticklabel objects>)"
            ]
          },
          "metadata": {
            "tags": []
          },
          "execution_count": 27
        },
        {
          "output_type": "display_data",
          "data": {
            "image/png": "[encoded data removed]",
            "text/plain": [
              "<Figure size 432x288 with 1 Axes>"
            ]
          },
          "metadata": {
            "tags": []
          }
        }
      ]
    },
    {
      "cell_type": "markdown",
      "metadata": {
        "id": "VbZXvOiEScnM"
      },
      "source": [
        "#### Plataformas mas utilizadas"
      ]
    },
    {
      "cell_type": "code",
      "metadata": {
        "id": "c2VQG-zJbvuR",
        "outputId": "11978ba3-83fc-4856-abc6-16b2bb0e014e",
        "colab": {
          "base_uri": "https://localhost:8080/",
          "height": 452
        }
      },
      "source": [
        "unique_equipos = pd.DataFrame(df.TX_DISP_VERSION_ORIGINAL_NEW.value_counts())\n",
        "unique_equipos.reset_index(drop = False, inplace=True)\n",
        "unique_equipos"
      ],
      "execution_count": null,
      "outputs": [
        {
          "output_type": "execute_result",
          "data": {
            "text/html": [
              "<div>\n",
              "<style scoped>\n",
              "    .dataframe tbody tr th:only-of-type {\n",
              "        vertical-align: middle;\n",
              "    }\n",
              "\n",
              "    .dataframe tbody tr th {\n",
              "        vertical-align: top;\n",
              "    }\n",
              "\n",
              "    .dataframe thead th {\n",
              "        text-align: right;\n",
              "    }\n",
              "</style>\n",
              "<table border=\"1\" class=\"dataframe\">\n",
              "  <thead>\n",
              "    <tr style=\"text-align: right;\">\n",
              "      <th></th>\n",
              "      <th>index</th>\n",
              "      <th>TX_DISP_VERSION_ORIGINAL_NEW</th>\n",
              "    </tr>\n",
              "  </thead>\n",
              "  <tbody>\n",
              "    <tr>\n",
              "      <th>0</th>\n",
              "      <td>Android</td>\n",
              "      <td>8438</td>\n",
              "    </tr>\n",
              "    <tr>\n",
              "      <th>1</th>\n",
              "      <td>TV</td>\n",
              "      <td>6713</td>\n",
              "    </tr>\n",
              "    <tr>\n",
              "      <th>2</th>\n",
              "      <td>Chrome</td>\n",
              "      <td>2491</td>\n",
              "    </tr>\n",
              "    <tr>\n",
              "      <th>3</th>\n",
              "      <td>iOS</td>\n",
              "      <td>1286</td>\n",
              "    </tr>\n",
              "    <tr>\n",
              "      <th>4</th>\n",
              "      <td>Windows 10</td>\n",
              "      <td>276</td>\n",
              "    </tr>\n",
              "    <tr>\n",
              "      <th>5</th>\n",
              "      <td>Firefox</td>\n",
              "      <td>172</td>\n",
              "    </tr>\n",
              "    <tr>\n",
              "      <th>6</th>\n",
              "      <td>Safari</td>\n",
              "      <td>77</td>\n",
              "    </tr>\n",
              "    <tr>\n",
              "      <th>7</th>\n",
              "      <td>Edge</td>\n",
              "      <td>55</td>\n",
              "    </tr>\n",
              "    <tr>\n",
              "      <th>8</th>\n",
              "      <td>otro</td>\n",
              "      <td>49</td>\n",
              "    </tr>\n",
              "    <tr>\n",
              "      <th>9</th>\n",
              "      <td>generic</td>\n",
              "      <td>48</td>\n",
              "    </tr>\n",
              "    <tr>\n",
              "      <th>10</th>\n",
              "      <td>web</td>\n",
              "      <td>18</td>\n",
              "    </tr>\n",
              "    <tr>\n",
              "      <th>11</th>\n",
              "      <td>freebsd</td>\n",
              "      <td>16</td>\n",
              "    </tr>\n",
              "    <tr>\n",
              "      <th>12</th>\n",
              "      <td>opera</td>\n",
              "      <td>2</td>\n",
              "    </tr>\n",
              "  </tbody>\n",
              "</table>\n",
              "</div>"
            ],
            "text/plain": [
              "         index  TX_DISP_VERSION_ORIGINAL_NEW\n",
              "0      Android                          8438\n",
              "1           TV                          6713\n",
              "2       Chrome                          2491\n",
              "3          iOS                          1286\n",
              "4   Windows 10                           276\n",
              "5      Firefox                           172\n",
              "6       Safari                            77\n",
              "7         Edge                            55\n",
              "8         otro                            49\n",
              "9      generic                            48\n",
              "10         web                            18\n",
              "11     freebsd                            16\n",
              "12       opera                             2"
            ]
          },
          "metadata": {
            "tags": []
          },
          "execution_count": 28
        }
      ]
    },
    {
      "cell_type": "code",
      "metadata": {
        "id": "KWmF4qK9cS61",
        "outputId": "15a5a918-2904-41ce-b669-efe57aa8b332",
        "colab": {
          "base_uri": "https://localhost:8080/",
          "height": 427
        }
      },
      "source": [
        "import matplotlib.pyplot as plt\n",
        "plt.figure(figsize=(7,7))\n",
        "names=unique_equipos['index'].tolist()\n",
        "size=unique_equipos['TX_DISP_VERSION_ORIGINAL_NEW'].tolist()\n",
        " \n",
        "my_circle=plt.Circle((0,0), 0.7, color='white')\n",
        "\n",
        "plt.rcParams['text.color'] = 'black'\n",
        "from palettable.colorbrewer.qualitative import Pastel1_7\n",
        "plt.pie(size, labels=names, colors=Pastel1_7.hex_colors)\n",
        "p=plt.gcf()\n",
        "p.gca().add_artist(my_circle)\n",
        "plt.title('Utilización de plataformas')\n",
        "plt.show()"
      ],
      "execution_count": null,
      "outputs": [
        {
          "output_type": "display_data",
          "data": {
            "image/png": "[encoded data removed]",
            "text/plain": [
              "<Figure size 504x504 with 1 Axes>"
            ]
          },
          "metadata": {
            "tags": []
          }
        }
      ]
    },
    {
      "cell_type": "markdown",
      "metadata": {
        "id": "8dHAmSOQTADA"
      },
      "source": [
        "#### ¿Que ha visto el usuario mas activo durante ese mes?"
      ]
    },
    {
      "cell_type": "code",
      "metadata": {
        "id": "39TYj8TJeJyA",
        "outputId": "521d7180-2ff4-4732-939b-54b21407dc4b",
        "colab": {
          "base_uri": "https://localhost:8080/",
          "height": 221
        }
      },
      "source": [
        "#Explorar al usuario mas activo. \n",
        "u_movies_c135260808 = pd.DataFrame(df[df.ID_CLIENTE == 135260808].TX_NOMBRE.value_counts())\n",
        "u_movies_c135260808.reset_index(drop = False, inplace=True)\n",
        "display(u_movies_c135260808.head())\n",
        "u_movies_c135260808.shape\n"
      ],
      "execution_count": null,
      "outputs": [
        {
          "output_type": "display_data",
          "data": {
            "text/html": [
              "<div>\n",
              "<style scoped>\n",
              "    .dataframe tbody tr th:only-of-type {\n",
              "        vertical-align: middle;\n",
              "    }\n",
              "\n",
              "    .dataframe tbody tr th {\n",
              "        vertical-align: top;\n",
              "    }\n",
              "\n",
              "    .dataframe thead th {\n",
              "        text-align: right;\n",
              "    }\n",
              "</style>\n",
              "<table border=\"1\" class=\"dataframe\">\n",
              "  <thead>\n",
              "    <tr style=\"text-align: right;\">\n",
              "      <th></th>\n",
              "      <th>index</th>\n",
              "      <th>TX_NOMBRE</th>\n",
              "    </tr>\n",
              "  </thead>\n",
              "  <tbody>\n",
              "    <tr>\n",
              "      <th>0</th>\n",
              "      <td>Paquita la del barrio</td>\n",
              "      <td>14</td>\n",
              "    </tr>\n",
              "    <tr>\n",
              "      <th>1</th>\n",
              "      <td>X-Files, The</td>\n",
              "      <td>10</td>\n",
              "    </tr>\n",
              "    <tr>\n",
              "      <th>2</th>\n",
              "      <td>Penguins of Madagascar</td>\n",
              "      <td>4</td>\n",
              "    </tr>\n",
              "    <tr>\n",
              "      <th>3</th>\n",
              "      <td>Dora the Explorer</td>\n",
              "      <td>3</td>\n",
              "    </tr>\n",
              "    <tr>\n",
              "      <th>4</th>\n",
              "      <td>Walking Dead, The</td>\n",
              "      <td>3</td>\n",
              "    </tr>\n",
              "  </tbody>\n",
              "</table>\n",
              "</div>"
            ],
            "text/plain": [
              "                    index  TX_NOMBRE\n",
              "0   Paquita la del barrio         14\n",
              "1            X-Files, The         10\n",
              "2  Penguins of Madagascar          4\n",
              "3       Dora the Explorer          3\n",
              "4       Walking Dead, The          3"
            ]
          },
          "metadata": {
            "tags": []
          }
        },
        {
          "output_type": "execute_result",
          "data": {
            "text/plain": [
              "(36, 2)"
            ]
          },
          "metadata": {
            "tags": []
          },
          "execution_count": 30
        }
      ]
    },
    {
      "cell_type": "code",
      "metadata": {
        "id": "YPknS7tUuoSe",
        "outputId": "93239f65-3521-4d35-d81b-f76f05e92d5a",
        "colab": {
          "base_uri": "https://localhost:8080/",
          "height": 466
        }
      },
      "source": [
        "sns.set_style(\"white\")\n",
        "sns.barplot(x = 'index', y='TX_NOMBRE', data=u_movies_c135260808.head(10), \n",
        "            order=u_movies_c135260808['index'].head(10), \n",
        "            palette='GnBu_d')\n",
        "plt.xlabel('Pelicula / Serie')\n",
        "plt.ylabel('Cant Visualizaciones')\n",
        "plt.title('TOP 10 de Peliculas/Series con mas visualizaciones del Usuario 135260808')\n",
        "plt.xticks(rotation=90)"
      ],
      "execution_count": null,
      "outputs": [
        {
          "output_type": "execute_result",
          "data": {
            "text/plain": [
              "(array([0, 1, 2, 3, 4, 5, 6, 7, 8, 9]),\n",
              " <a list of 10 Text major ticklabel objects>)"
            ]
          },
          "metadata": {
            "tags": []
          },
          "execution_count": 31
        },
        {
          "output_type": "display_data",
          "data": {
            "image/png": "[encoded data removed]",
            "text/plain": [
              "<Figure size 432x288 with 1 Axes>"
            ]
          },
          "metadata": {
            "tags": []
          }
        }
      ]
    },
    {
      "cell_type": "markdown",
      "metadata": {
        "id": "11L6IfzPnXv7"
      },
      "source": [
        "##Resumen\n",
        "\n",
        "*   El usuario que mas utilizó la plataforma de streaming durante el mes correspondiente a los datos fue usuario etiquetado con el ID 135260808 con 77 visualizaciones.\n",
        "\n",
        "*   El programa mas visto fue `Malcolm in the middle` con 1887 visualizaciones. \n",
        "\n",
        "*   Los tres dispositivos de streamming mas usados son moviles con SO Android, le sigues las TV inteligentes, y por ultimo navegador web chrome.\n",
        "\n",
        "*   Los 3 programas con mas visualizacione por el usuario 135260808, son `Paquita la del barrio`, `X-Files`, `Penguins of Madagascar`."
      ]
    },
    {
      "cell_type": "code",
      "metadata": {
        "id": "1ESAAXPtpoJE"
      },
      "source": [],
      "execution_count": null,
      "outputs": []
    }
  ]
}